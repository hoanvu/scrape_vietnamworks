{
 "cells": [
  {
   "cell_type": "markdown",
   "metadata": {},
   "source": [
    "# Data Scraping - Get most recent 50 jobs from Vietnamworks"
   ]
  },
  {
   "cell_type": "markdown",
   "metadata": {},
   "source": [
    "This document shows some basic web scraping steps to crawl Vietnamworks and get 50 newest jobs.\n",
    "\n",
    "Below are some libraries used in this doc:\n",
    "* [BeautifulSoup 4](http://www.crummy.com/software/BeautifulSoup/): worker for all scraping activities \n",
    "* [requests](http://docs.python-requests.org/en/master/): very powerful library, but main usage in this doc will be send GET requests to some websites \n",
    "* [pandas](http://pandas.pydata.org/): very popular data wrangling library \n",
    "* [matplotlib](http://matplotlib.org/): a popular Python library for plotting 2D data\n",
    "* [seaborn](https://stanford.edu/~mwaskom/software/seaborn/): a Python library for statiscal visualization\n",
    "\n",
    "Install necessary libraries:"
   ]
  },
  {
   "cell_type": "code",
   "execution_count": null,
   "metadata": {
    "collapsed": false
   },
   "outputs": [],
   "source": [
    "!conda install beautifulsoup4\n",
    "!conda install requests\n",
    "!conda install pandas"
   ]
  },
  {
   "cell_type": "markdown",
   "metadata": {},
   "source": [
    "Import:"
   ]
  },
  {
   "cell_type": "code",
   "execution_count": 1,
   "metadata": {
    "collapsed": false
   },
   "outputs": [
    {
     "name": "stdout",
     "output_type": "stream",
     "text": [
      "Populating the interactive namespace from numpy and matplotlib\n"
     ]
    }
   ],
   "source": [
    "import requests\n",
    "import pandas as pd\n",
    "import seaborn as sns\n",
    "import matplotlib.pyplot as plt\n",
    "\n",
    "from bs4 import BeautifulSoup\n",
    "\n",
    "%pylab inline"
   ]
  },
  {
   "cell_type": "markdown",
   "metadata": {},
   "source": [
    "Go to [Vietnamworks](http://www.vietnamworks.com/), choose any job category, this document will choose [IT-Software](http://www.vietnamworks.com/it-software-jobs-i35-en) and configure so that Vietnamworks display 50 jobs per page.\n",
    "\n",
    "Store the Vietnamworks URL to crawl in variable 'url':"
   ]
  },
  {
   "cell_type": "code",
   "execution_count": 2,
   "metadata": {
    "collapsed": true
   },
   "outputs": [],
   "source": [
    "url = 'http://www.vietnamworks.com/it-software-jobs-i35-en'"
   ]
  },
  {
   "cell_type": "markdown",
   "metadata": {},
   "source": [
    "Make a GET request to above URL:"
   ]
  },
  {
   "cell_type": "code",
   "execution_count": 3,
   "metadata": {
    "collapsed": true
   },
   "outputs": [],
   "source": [
    "req = requests.get(url)"
   ]
  },
  {
   "cell_type": "markdown",
   "metadata": {},
   "source": [
    "Store the page's DOM in BeautifulSoup:"
   ]
  },
  {
   "cell_type": "code",
   "execution_count": 4,
   "metadata": {
    "collapsed": false
   },
   "outputs": [],
   "source": [
    "soup = BeautifulSoup(req.content, 'html.parser')"
   ]
  },
  {
   "cell_type": "markdown",
   "metadata": {},
   "source": [
    "What does 'soup' look like?"
   ]
  },
  {
   "cell_type": "code",
   "execution_count": null,
   "metadata": {
    "collapsed": false
   },
   "outputs": [],
   "source": [
    "soup"
   ]
  },
  {
   "cell_type": "markdown",
   "metadata": {},
   "source": [
    "Now what we need to do is to find the DOM element that contains all the job posts in this page. After inspecting the code using Developer Tools, we know that these 50 job posts are stored in a **table** element with classes **\"table table-hover link-list table-expanded\"**. \n",
    "\n",
    "Let's get that element out of the page's DOM using BeautifulSoup, by looking for **table** element with class **link-list**. One class maybe enough to get the desired table from this website, but it will be different for different websites:"
   ]
  },
  {
   "cell_type": "code",
   "execution_count": 6,
   "metadata": {
    "collapsed": false
   },
   "outputs": [],
   "source": [
    "jobs_table = soup.find('table', {'class': 'link-list'})"
   ]
  },
  {
   "cell_type": "markdown",
   "metadata": {},
   "source": [
    "Let's take a look at this:"
   ]
  },
  {
   "cell_type": "code",
   "execution_count": null,
   "metadata": {
    "collapsed": false
   },
   "outputs": [],
   "source": [
    "jobs_table"
   ]
  },
  {
   "cell_type": "markdown",
   "metadata": {},
   "source": [
    "Through the look of it at first, I think we already got what we are looking for. Now, get all job posts in this table, using BeautifulSoup **find_all()** method. \n",
    "\n",
    "The result will be a list of all job posts, each job will be stored in a **tr** element, a table row:"
   ]
  },
  {
   "cell_type": "code",
   "execution_count": 8,
   "metadata": {
    "collapsed": false
   },
   "outputs": [],
   "source": [
    "tr_tags = jobs_table.find_all('tr', {'class': 'job-post'})"
   ]
  },
  {
   "cell_type": "markdown",
   "metadata": {},
   "source": [
    "How many job posts are there?"
   ]
  },
  {
   "cell_type": "code",
   "execution_count": 9,
   "metadata": {
    "collapsed": false
   },
   "outputs": [
    {
     "data": {
      "text/plain": [
       "50"
      ]
     },
     "execution_count": 9,
     "metadata": {},
     "output_type": "execute_result"
    }
   ],
   "source": [
    "len(tr_tags)"
   ]
  },
  {
   "cell_type": "markdown",
   "metadata": {},
   "source": [
    "Exactly 50, just as we expected. So we are going in the right direction!\n",
    "\n",
    "Now, it's time to scrape detail information for each job. We will extract the following:\n",
    "* Job title\n",
    "* Company\n",
    "* Location\n",
    "* Link\n",
    "\n",
    "Because there are 50 jobs, so we will store each piece of information in a separate list. So totally 4 lists are created, one for **Job title**, one for **Company** and so on. This is handy because we can use these lists to formulate a Pandas Frame later, which is a very powerful for data management if we want to explore the data further.\n",
    "\n",
    "First, get the **Job title**:"
   ]
  },
  {
   "cell_type": "code",
   "execution_count": 10,
   "metadata": {
    "collapsed": false
   },
   "outputs": [
    {
     "data": {
      "text/plain": [
       "[u'K\\u1ef9 S\\u01b0 C\\xf4ng Ngh\\u1ec7 Th\\xf4ng Tin ( V\\u0103n Ph\\xf2ng Qu\\u1ed1c Gia L\\xe0ng Tr\\u1ebb EM SOS Vi\\u1ec7t Nam )',\n",
       " u'Nh\\xe2n Vi\\xean X\\u1eed L\\xfd B\\u1ea3n V\\u1ebd CAD Bi\\u1ebft Ti\\u1ebfng Nh\\u1eadt',\n",
       " u'Nh\\xe2n Vi\\xean CNTT ( Qu\\u1ea3n Tr\\u1ecb Ph\\u1ea7n M\\u1ec1m, Qu\\u1ea3n Tr\\u1ecb H\\u1ea1 T\\u1ea7ng )',\n",
       " u'Senior Java Web Developer ($1,000 ~ $1,200)',\n",
       " u'Project Manager \\u2013 Microsoft Technology']"
      ]
     },
     "execution_count": 10,
     "metadata": {},
     "output_type": "execute_result"
    }
   ],
   "source": [
    "job_titles = [title.find('a', {'class': 'job-title'}).contents[0] for title in tr_tags]\n",
    "# Now take a look at first 3 titles\n",
    "job_titles[:5]"
   ]
  },
  {
   "cell_type": "markdown",
   "metadata": {},
   "source": [
    "It seems good. So what happened?\n",
    "\n",
    "For each **tr** tag in the **jobs_table**, we find the **a** tag with class **job-title**. This will return the DOM for the job's title along with its hyperlink. Because we know that there will be only one **a** tag with class **job-title**, the **find()** method works fine. Then **contents** variable is used to get the text between open and close **a** tag. This variable will return a list with 1 element, so **[0]** will get the first element out, which is the title itself.\n",
    "\n",
    "Next we will get the remaining information for each job post and store them in corresponding list. The logic is the same. All we need to do is to inspect the DOM that contains necessary information and use BeautifulSoup to extract it."
   ]
  },
  {
   "cell_type": "code",
   "execution_count": 11,
   "metadata": {
    "collapsed": true
   },
   "outputs": [],
   "source": [
    "# Get hyperlink to job's detail page\n",
    "job_links = [job.find('a', 'job-title').get('href') for job in tr_tags]\n",
    "\n",
    "# Employer\n",
    "job_companies = [job.find('span', 'name').contents[0] for job in tr_tags]\n",
    "\n",
    "# Job's location\n",
    "job_locations = [job.find('p', 'job-info').contents[1].find('span').contents[0] for job in tr_tags]"
   ]
  },
  {
   "cell_type": "markdown",
   "metadata": {},
   "source": [
    "After getting all required pieces of data, we may proceed to combine them into a data structure that is more useful for further analysis. Pandas DataFrame is the best candidate for this job. To read more about Pandas, please refer to the link at the beginning of this document."
   ]
  },
  {
   "cell_type": "code",
   "execution_count": 12,
   "metadata": {
    "collapsed": false
   },
   "outputs": [
    {
     "data": {
      "text/html": [
       "<div>\n",
       "<table border=\"1\" class=\"dataframe\">\n",
       "  <thead>\n",
       "    <tr style=\"text-align: right;\">\n",
       "      <th></th>\n",
       "      <th>company</th>\n",
       "      <th>job_location</th>\n",
       "      <th>link</th>\n",
       "      <th>title</th>\n",
       "    </tr>\n",
       "  </thead>\n",
       "  <tbody>\n",
       "    <tr>\n",
       "      <th>0</th>\n",
       "      <td>Văn Phòng Quốc Gia – Làng Trẻ Em SOS Việt Nam</td>\n",
       "      <td>Ha Noi</td>\n",
       "      <td>http://www.vietnamworks.com/ky-su-cong-nghe-th...</td>\n",
       "      <td>Kỹ Sư Công Nghệ Thông Tin ( Văn Phòng Quốc Gia...</td>\n",
       "    </tr>\n",
       "    <tr>\n",
       "      <th>1</th>\n",
       "      <td>Công Ty TNHH Csl Cad Việt Nam</td>\n",
       "      <td>Ho Chi Minh</td>\n",
       "      <td>http://www.vietnamworks.com/nhan-vien-xu-ly-ba...</td>\n",
       "      <td>Nhân Viên Xử Lý Bản Vẽ CAD Biết Tiếng Nhật</td>\n",
       "    </tr>\n",
       "    <tr>\n",
       "      <th>2</th>\n",
       "      <td>Công Ty Cổ Phần Tiến Bộ Quốc Tế (AIC)</td>\n",
       "      <td>Ha Noi</td>\n",
       "      <td>http://www.vietnamworks.com/nhan-vien-cntt-qua...</td>\n",
       "      <td>Nhân Viên CNTT ( Quản Trị Phần Mềm, Quản Trị H...</td>\n",
       "    </tr>\n",
       "    <tr>\n",
       "      <th>3</th>\n",
       "      <td>Nextop Co. Ltd</td>\n",
       "      <td>Ha Noi</td>\n",
       "      <td>http://www.vietnamworks.com/senior-java-web-de...</td>\n",
       "      <td>Senior Java Web Developer ($1,000 ~ $1,200)</td>\n",
       "    </tr>\n",
       "    <tr>\n",
       "      <th>4</th>\n",
       "      <td>Robert Bosch Engineering Vietnam</td>\n",
       "      <td>Ho Chi Minh</td>\n",
       "      <td>http://www.vietnamworks.com/project-manager-mi...</td>\n",
       "      <td>Project Manager – Microsoft Technology</td>\n",
       "    </tr>\n",
       "  </tbody>\n",
       "</table>\n",
       "</div>"
      ],
      "text/plain": [
       "                                         company job_location  \\\n",
       "0  Văn Phòng Quốc Gia – Làng Trẻ Em SOS Việt Nam       Ha Noi   \n",
       "1                  Công Ty TNHH Csl Cad Việt Nam  Ho Chi Minh   \n",
       "2          Công Ty Cổ Phần Tiến Bộ Quốc Tế (AIC)       Ha Noi   \n",
       "3                                 Nextop Co. Ltd       Ha Noi   \n",
       "4               Robert Bosch Engineering Vietnam  Ho Chi Minh   \n",
       "\n",
       "                                                link  \\\n",
       "0  http://www.vietnamworks.com/ky-su-cong-nghe-th...   \n",
       "1  http://www.vietnamworks.com/nhan-vien-xu-ly-ba...   \n",
       "2  http://www.vietnamworks.com/nhan-vien-cntt-qua...   \n",
       "3  http://www.vietnamworks.com/senior-java-web-de...   \n",
       "4  http://www.vietnamworks.com/project-manager-mi...   \n",
       "\n",
       "                                               title  \n",
       "0  Kỹ Sư Công Nghệ Thông Tin ( Văn Phòng Quốc Gia...  \n",
       "1         Nhân Viên Xử Lý Bản Vẽ CAD Biết Tiếng Nhật  \n",
       "2  Nhân Viên CNTT ( Quản Trị Phần Mềm, Quản Trị H...  \n",
       "3        Senior Java Web Developer ($1,000 ~ $1,200)  \n",
       "4             Project Manager – Microsoft Technology  "
      ]
     },
     "execution_count": 12,
     "metadata": {},
     "output_type": "execute_result"
    }
   ],
   "source": [
    "data = pd.DataFrame({'title': job_titles, \n",
    "                    'company': job_companies,\n",
    "                    'job_location': job_locations, \n",
    "                    'link': job_links})\n",
    "\n",
    "data.head(5)"
   ]
  },
  {
   "cell_type": "markdown",
   "metadata": {},
   "source": [
    "DataFrame helps us to view, transform and visualize data very effectively. For example, you can get the overview of how many jobs out of 50 extracted jobs above are based in Hanoi, Ho Chi Minh, ...\n",
    "\n",
    "To do this, we can use **matplotlib** and **seaborn** with a painless function as below:"
   ]
  },
  {
   "cell_type": "code",
   "execution_count": 13,
   "metadata": {
    "collapsed": false
   },
   "outputs": [
    {
     "data": {
      "text/plain": [
       "<matplotlib.axes._subplots.AxesSubplot at 0x333d630>"
      ]
     },
     "execution_count": 13,
     "metadata": {},
     "output_type": "execute_result"
    },
    {
     "data": {
      "image/png": "[encoded data removed]",
      "text/plain": [
       "<matplotlib.figure.Figure at 0x91109b0>"
      ]
     },
     "metadata": {},
     "output_type": "display_data"
    }
   ],
   "source": [
    "sns.countplot(y=job_locations, data=data)"
   ]
  },
  {
   "cell_type": "markdown",
   "metadata": {},
   "source": [
    "So clearly, the vast majority number of jobs are based in Ho Chi Minh city.\n",
    "\n",
    "Visit **matplotlib** and **seaborn** websites for more."
   ]
  },
  {
   "cell_type": "code",
   "execution_count": null,
   "metadata": {
    "collapsed": true
   },
   "outputs": [],
   "source": []
  }
 ],
 "metadata": {
  "kernelspec": {
   "display_name": "Python 2",
   "language": "python",
   "name": "python2"
  },
  "language_info": {
   "codemirror_mode": {
    "name": "ipython",
    "version": 2
   },
   "file_extension": ".py",
   "mimetype": "text/x-python",
   "name": "python",
   "nbconvert_exporter": "python",
   "pygments_lexer": "ipython2",
   "version": "2.7.11"
  }
 },
 "nbformat": 4,
 "nbformat_minor": 0
}
